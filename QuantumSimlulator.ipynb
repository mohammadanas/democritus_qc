import numpy as np
import math

class QuantumSimulator:
    
    def __init__(self): 
        self.parser = ProgramParser()
    
    def get_ground_state(self, num_qubits):
        
        self.num_qubits = num_qubits

        # Validate num_qubits argument
        if num_qubits <= 0:
            raise Exception("num_qubits can't be zero of negative")
        if num_qubits >= 10:
            raise Exception("num_qubits can't be greater 10")

        # Check nums of qubits
        ground_state = np.zeros(2**num_qubits);
        ground_state[0] = 1

        return ground_state
    
    def run_program(self, initial_state, program):
        # Validate intial state
        if initial_state.size == 0:
            raise Exception("Invalid initial state " + str(initial_state))
        
        # Validate program
        self.parser.validate_program(self.num_qubits, program)
        
        # Run program
        for gate_def in program:
            gate = gate_def["gate"]
            target_qubits = gate_def["target"]
            
            params = None
            if "params" in gate_def:
                params = gate_def["params"]
                
            operator = self.parser.get_operator_matrix(gate, len(target_qubits), params)
            
            print ("\nRunning program for " + str(gate) + " gate on target qubits " + str(target_qubits))
            
            operator = self.parser.get_extended_operator(self.num_qubits, gate, operator, target_qubits)
            
            print ("\nCurrent state: " + str(initial_state))
            initial_state = np.dot(operator, initial_state)
            print ("\nState after operator applied: " + str(initial_state)) 
        
        return initial_state
    
    def measure_all(self, state_vector):
        amplitudes = None
        if isinstance(state_vector[0], complex):
            amplitudes = np.abs(state_vector)**2
        else:
            amplitudes = state_vector**2
        return np.random.choice(len(state_vector), 1, p=amplitudes)
    
    def get_counts(self, state_vector, shots=10):
        sample_count = np.zeros(len(state_vector))
        
        for i in range(shots):
            selected_state = self.measure_all(state_vector)
            sample_count[selected_state] += 1;
        
        counts = {}
        for i in range(len(sample_count)):
            if sample_count[i] != 0:
                binary_string = ('{0:0' + str(self.num_qubits) + 'b}').format(i)
                counts[binary_string] = sample_count[i]
        return counts;
    
def cos(theta):
    return math.cos(theta)
class ProgramParser:
    """
        Parser supports following gates,
        1-Qubit: X, Y, Z, H, S, T
        2-Qubit: CX, SWAP
        
        I took it from wikipedia Quantum_logic_gate
    """
    def __init__(self): 
        
        self.gates = ["x", "y", "z", "h", "s", "t", "cx", "swap"]
        self.gate_operator_mapping = {
            1 : {
                "x" : np.array([
                    [0, 1], 
                    [1, 0]
                ]),
                "y" : np.array([
                    [0+0j, 0-1j], 
                    [0+1j, 0+0j]
                ]),
                "z" : np.array([
                    [1,  0], 
                    [0, -1]
                ]),
                "h" : np.array([
                    [1 / np.sqrt(2),  1 / np.sqrt(2)],
                    [1 / np.sqrt(2), -1 / np.sqrt(2)]
                ]),
                "s" : np.array([
                    [1+0j, 0+0j], 
                    [0+0j, 0+1j]
                ]),
                "t" : np.array([
                    [1, 0], 
                    [0, np.exp(complex(0, (np.pi / 4)))]
                ])
            },
            2 : {
                "cx": np.array([
                    [0, 1], 
                    [1, 0]
                ]),
                "swap": np.array([
                    [1, 0],
                    [0, 1]
                ])
            }
        }
        
        self.parametric_gates = ["u3"]
        self.parametric_gate_operator_mapping = {
            1 : {
                "u3" :  np.array([
                    ["cos(theta/2)", "-exp(i * Lambda) * sin(theta / 2)"], 
                    ["exp(i * phi) * sin(theta / 2)", "exp(i * Lambda + i * phi) * cos(theta / 2)"]
                ])
            }
        }
        
        self.control_qubit_projectors = {
            "00": np.array([
                [1, 0],
                [0, 0]
            ]),
            "11": np.array([
                [0, 0],
                [0, 1]
            ]),
            "01": np.array([
                [0, 0],
                [1, 0]
            ]),
            "10": np.array([
                [0, 1],
                [0, 0]
            ])
        }
            
    
    def validate_program(self, state_length, program):
        for gate_def in program:
            
            # Validate gate name
            if gate_def["gate"] is None:
                raise Exception("Gate key not fond in program " + str(gate_def))
                
            # Validate correct target qubit array
            if not gate_def["target"] or len(gate_def["target"]) > 2:
                raise Exception("Invalid target qubits " + str(gate_def)) 
            
            # Validate control and target are not same
            if len(gate_def["target"]) == 1 and gate_def["target"][0] >= state_length:
                raise Exception("1 qubit gate with invalid target " + str(gate_def)) 
                
            # Validate control and target are not same
            if len(gate_def["target"]) == 2 and gate_def["target"][0] == gate_def["target"][1]:
                raise Exception("2 qubit gate with same control and target " + str(gate_def)) 
            
            # Validate correct control and target less than number of qubit
            if len(gate_def["target"]) == 2 and (gate_def["target"][0] >= state_length or gate_def["target"][1] >= state_length):
                raise Exception("2-qubit gate with invalid control or target qubit " + str(gate_def)) 
            
            # Check gate is supported
            if gate_def["gate"] not in self.parametric_gates:
                if gate_def["gate"] not in self.gates:
                    raise Exception("Unsupported gate " + str(gate_def["gate"])) 
                    
    def get_operator_matrix(self, gate, target_qubits, paramater=None):
        
        if gate in self.parametric_gates:
            operator_expression = self.parametric_gate_operator_mapping[target_qubits][gate]
            paramater['__builtins__'] = {'exp': np.exp, 'cos': math.cos, 'sin': math.sin, 'i':0+1.j}
            
            x00 = np.round(eval(operator_expression[0][0], paramater), 8)
            x01 = np.round(eval(operator_expression[0][1], paramater), 8)
            x10 = np.round(eval(operator_expression[1][0], paramater), 8)
            x11 = np.round(eval(operator_expression[1][1], paramater), 8)
            
            return np.array([
                [x00, x01],
                [x10, x11]
            ])
        else:
            return self.gate_operator_mapping[target_qubits][gate]
            
    
    def get_extended_operator(self, state_length, gate, operator, target_qubits):
        if len(target_qubits) == 1:
            return self.get_extended_operator_1_qubit(state_length, operator, target_qubits)
        elif len(target_qubits) == 2:
            return self.get_extended_operator_2_qubits(state_length, gate, operator, target_qubits)
        else:
            return None
            
    def get_extended_operator_1_qubit(self, state_length, operator, target_qubits):
        identity = np.identity(2)

        for i in range(state_length):
            if i < target_qubits[0]:
                operator = np.kron(identity, operator)
            elif i > target_qubits[0]:
                operator = np.kron(operator, identity)
        return operator
    
    def get_extended_operator_2_qubits(self, state_length, gate, operator, target_qubits):
        # 2-qubit operator
        if (gate == "cx"):
            identity = np.identity(2)

            projector_0 = self.control_qubit_projectors["00"]
            projector_1 = self.control_qubit_projectors["11"]

            operator_0 = [1]
            operator_1 = [1]
            for i in range(state_length):
                # Conrtol qubit
                if i == target_qubits[0]:
                    operator_0 = np.kron(operator_0, projector_0)
                    operator_1 = np.kron(operator_1, projector_1)
                # Target qubit
                elif i == target_qubits[1]:
                    operator_0 = np.kron(operator_0, identity)
                    operator_1 = np.kron(operator_1, operator)
                else:
                    operator_0 = np.kron(operator_0, identity)
                    operator_1 = np.kron(operator_1, identity)

            return operator_0 + operator_1
            
        if (gate == "swap"):
            identity = np.identity(2)
            bit_strings = ["00", "01", "10", "11"]

            projectors = {}
            operators = {}
            for bit in bit_strings:
                projectors[bit] = self.control_qubit_projectors[bit]
                operators[bit] = [1]

            for i in range(state_length):
                # Conrtol qubit
                if i == target_qubits[0]:
                    for bit in bit_strings:
                        operators[bit] = np.kron(operators[bit], projectors[bit])
                # Target qubit
                elif i == target_qubits[1]:
                    operators["00"] = np.kron(operators["00"], projectors["00"])
                    operators["01"] = np.kron(operators["01"], projectors["10"])
                    operators["10"] = np.kron(operators["10"], projectors["01"])
                    operators["11"] = np.kron(operators["11"], projectors["11"])
                else:
                    for bit in bit_strings:
                        operators[bit] = np.kron(operators[bit], identity)
            return operators["00"] + operators["01"] + operators["10"] + operators["11"]
        

test = [
    { "gate": "x", "target": [0]},
    { "gate": "h", "target": [1]},
    { "gate": "t", "target": [1]},
    { "gate": "cx", "target": [0, 2]},
    { "gate": "u3", "target": [0], "params": { "theta": 3.1415, "phi": 1.5708, "Lambda": -3.1415 }}
]
   #{ "gate": "cx", "target": [2, 0]},
   # { "gate": "h", "target": [0]},
   # { "gate": "z", "target": [0]}]

qs = QuantumSimulator()
initial_state = qs.get_ground_state(8)

final_state = qs.run_program(initial_state, test)

print("\nState vector counts: ")
print(qs.get_counts(final_state, 1000))
    

        
    